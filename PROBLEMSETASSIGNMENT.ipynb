{
 "cells": [
  {
   "cell_type": "code",
   "execution_count": 2,
   "id": "df9dd0bc",
   "metadata": {},
   "outputs": [],
   "source": [
    "a = 0 \n",
    "def b():\n",
    " global a\n",
    " a = c(a)\n",
    "def c(a):\n",
    " return a + 2"
   ]
  },
  {
   "cell_type": "markdown",
   "id": "fbf7c61a",
   "metadata": {},
   "source": [
    "#Question 1\n",
    "\n",
    "the value of a will be 6\n",
    "step 1: variable \"a\" is assigned to value zero\n",
    "\n",
    "*)when excicuting function \"b\" for the first time it calls the variable \"a\" using the keyword \"global\"\n",
    "then global a with value zero is passed to function \"c\"\n",
    " which return \"a+2\" and global variable will get value 2\n",
    " \n",
    " *)when excicuting the function \"b\" second time it will go through the same process except the value of global variable is 2, so the value of a will be updated to 4 this time and will return it\n",
    " \n",
    " *)when excicuting function b for third time , the process will be the same as the first time except the value of global variable is 4 this time , so while excicuting the its value will be changed to 6 this time and return it\n",
    " \n",
    " *)after this 3 excicution of function \"b\" the value of variable a is now 6 , so when a is evaluated lastly it will disply 6\n",
    " "
   ]
  },
  {
   "cell_type": "code",
   "execution_count": 18,
   "id": "92b56dd1",
   "metadata": {},
   "outputs": [
    {
     "data": {
      "text/plain": [
       "'Filefilename not found'"
      ]
     },
     "execution_count": 18,
     "metadata": {},
     "output_type": "execute_result"
    }
   ],
   "source": [
    " #Question2\n",
    "def fileLength(filename):\n",
    "    try:\n",
    "        infile = open(filename,'r')\n",
    "        \n",
    "        contents=infile.read()\n",
    "        contents.head()\n",
    "        length =len(contents)\n",
    "        return length\n",
    "    except FileNotFoundError:\n",
    "        return f\"File{filename} not found\"\n",
    "    except Exception as e:\n",
    "        return f\"An error occured:{str(e)}\"\n",
    "    \n",
    "fileLength('filename')\n",
    "        \n"
   ]
  },
  {
   "cell_type": "code",
   "execution_count": 20,
   "id": "157942ce",
   "metadata": {},
   "outputs": [
    {
     "data": {
      "text/plain": [
       "['doll', 'firetruck', 'kitten']"
      ]
     },
     "execution_count": 20,
     "metadata": {},
     "output_type": "execute_result"
    }
   ],
   "source": [
    "#Question3\n",
    "\n",
    "class Marsupial: #creating a class named Marsupial\n",
    "    List = [] #creating a list \n",
    "    \n",
    "    def put_in_pouch(self,content): #defining a function put_in_pouch to add contents to the list\n",
    "       self.List.append(content) #appending the contents to the list\n",
    "        \n",
    "        \n",
    "    def pouch_contents(self): #defining a fucntion Pouch_contents to print the list\n",
    "        return m.List\n",
    "\n",
    "m = Marsupial() #class object\n",
    "m.put_in_pouch(\"doll\") #function call\n",
    "m.put_in_pouch(\"firetruck\") #function call\n",
    "m.put_in_pouch(\"kitten\") #function call\n",
    "m.pouch_contents() #function call\n"
   ]
  },
  {
   "cell_type": "code",
   "execution_count": 33,
   "id": "5f137649",
   "metadata": {},
   "outputs": [],
   "source": [
    "class Kangaroo(Marsupial):\n",
    "    def __init__(self, x, y):\n",
    "        super().__init__()  # Call the constructor of the superclass Marsupial\n",
    "        self.x = x\n",
    "        self.y = y\n",
    "\n",
    "    def jump(self, dx, dy):\n",
    "        self.x += dx\n",
    "        self.y += dy\n",
    "\n",
    "    def __str__(self):\n",
    "        return f\"I am a Kangaroo located at coordinates ({self.x},{self.y})\"\n",
    "\n",
    "    \n",
    "\n"
   ]
  },
  {
   "cell_type": "code",
   "execution_count": 31,
   "id": "3ab6c1ce",
   "metadata": {},
   "outputs": [
    {
     "name": "stdout",
     "output_type": "stream",
     "text": [
      "I am a Kangaroo located at coordinates (0,0)\n",
      "I am a Kangaroo located at coordinates (3,0)\n"
     ]
    }
   ],
   "source": [
    "    \n",
    "k = Kangaroo(0,0)\n",
    "print (k)\n",
    "\n",
    "k.put_in_pouch('doll')\n",
    "k.put_in_pouch('firetruck')\n",
    "k.put_in_pouch('kitten')\n",
    "k.pouch_contents()\n",
    "\n",
    "k.jump(1,0)\n",
    "k.jump(1,0)\n",
    "k.jump(1,0)\n",
    "print(k)"
   ]
  },
  {
   "cell_type": "code",
   "execution_count": 22,
   "id": "2cab3329",
   "metadata": {},
   "outputs": [
    {
     "name": "stdout",
     "output_type": "stream",
     "text": [
      "6\n",
      "3\n",
      "10\n",
      "5\n",
      "16\n",
      "8\n",
      "4\n",
      "2\n",
      "1\n"
     ]
    }
   ],
   "source": [
    "#QUESTION4\n",
    "def collatz(x):\n",
    "    # Base case: If x is 1, print it and stop.\n",
    "    if x == 1:\n",
    "        print(1)\n",
    "    # Recursive cases:\n",
    "    else:\n",
    "        print(x)\n",
    "        # If x is even, call collatz with x/2.\n",
    "        if x % 2 == 0:\n",
    "            collatz(x // 2)\n",
    "        # If x is odd, call collatz with 3x + 1.\n",
    "        else:\n",
    "            collatz(3 * x + 1)\n",
    "\n",
    "\n",
    "collatz(6)\n"
   ]
  },
  {
   "cell_type": "code",
   "execution_count": 23,
   "id": "6c771ff8",
   "metadata": {},
   "outputs": [
    {
     "name": "stdout",
     "output_type": "stream",
     "text": [
      "0\n",
      "1\n",
      "11\n",
      "1001"
     ]
    }
   ],
   "source": [
    "#QUESTION5\n",
    "def binary(n):\n",
    "    if n > 1:\n",
    "        binary(n // 2) \n",
    "    print(n % 2, end='')\n",
    "\n",
    "\n",
    "binary(0)\n",
    "print()  \n",
    "binary(1)\n",
    "print()\n",
    "binary(3)\n",
    "print()\n",
    "binary(9)\n"
   ]
  },
  {
   "cell_type": "code",
   "execution_count": 24,
   "id": "dd2161ca",
   "metadata": {
    "scrolled": false
   },
   "outputs": [
    {
     "name": "stdout",
     "output_type": "stream",
     "text": [
      "a) All Temperature Data: [(24.8,), (28.4,), (27.9,), (27.6,), (4.2,), (8.3,), (15.7,), (10.4,), (13.6,), (20.7,), (27.7,), (22.2,)]\n",
      "b) All Unique Cities: [('Mumbai',), ('London',), ('Cairo',)]\n",
      "c) Records for India: [('Mumbai', 'India', 'Winter', 24.8, 5.9), ('Mumbai', 'India', 'Spring', 28.4, 16.2), ('Mumbai', 'India', 'Summer', 27.9, 1549.4), ('Mumbai', 'India', 'Fall', 27.6, 346.0)]\n",
      "d) Fall Records: [('Mumbai', 'India', 'Fall', 27.6, 346.0), ('London', 'United Kingdom', 'Fall', 10.4, 218.5), ('Cairo', 'Egypt', 'Fall', 22.2, 4.5)]\n",
      "e) Average Rainfall between 200 and 400: [('London', 'United Kingdom', 'Fall'), ('London', 'United Kingdom', 'Winter'), ('Mumbai', 'India', 'Fall')]\n",
      "f) High-Temperature Cities in Fall: [('Cairo', 'Egypt'), ('Mumbai', 'India')]\n",
      "g) Total Rainfall for Cairo: 27.6\n",
      "h) Total Rainfall by Season: [('Fall', 569.0), ('Spring', 192.29999999999998), ('Summer', 1706.5), ('Winter', 230.1)]\n"
     ]
    }
   ],
   "source": [
    "#QUESTION6\n",
    "import sqlite3\n",
    "\n",
    "conn = sqlite3.connect('annite_gee_varghese.db')\n",
    "cursor = conn.cursor()\n",
    "\n",
    "cursor.execute('''\n",
    "    CREATE TABLE weather \n",
    "    (City TEXT, Country TEXT, Season TEXT, \"Temperature(C)\" FLOAT, \"Rainfall(mm)\" FLOAT)\n",
    "''')\n",
    "\n",
    "weather_data = [\n",
    "    ('Mumbai', 'India', 'Winter', 24.8, 5.9),\n",
    "    ('Mumbai', 'India', 'Spring', 28.4, 16.2),\n",
    "    ('Mumbai', 'India', 'Summer', 27.9, 1549.4),\n",
    "    ('Mumbai', 'India', 'Fall', 27.6, 346.0),\n",
    "    ('London', 'United Kingdom', 'Winter', 4.2, 207.7),\n",
    "    ('London', 'United Kingdom', 'Spring', 8.3, 169.6),\n",
    "    ('London', 'United Kingdom', 'Summer', 15.7, 157.0),\n",
    "    ('London', 'United Kingdom', 'Fall', 10.4, 218.5),\n",
    "    ('Cairo', 'Egypt', 'Winter', 13.6, 16.5),\n",
    "    ('Cairo', 'Egypt', 'Spring', 20.7, 6.5),\n",
    "    ('Cairo', 'Egypt', 'Summer', 27.7, 0.1),\n",
    "    ('Cairo', 'Egypt', 'Fall', 22.2, 4.5)\n",
    "]\n",
    "\n",
    "cursor.executemany('''\n",
    "    INSERT INTO weather (City, Country, Season, \"Temperature(C)\", \"Rainfall(mm)\")\n",
    "    VALUES (?, ?, ?, ?, ?)\n",
    "''', weather_data)\n",
    "\n",
    "# a) All the temperature data.\n",
    "cursor.execute('SELECT \"Temperature(C)\" FROM weather')\n",
    "temperature_data = cursor.fetchall()\n",
    "\n",
    "#b) All the cities, but without repetition.\n",
    "cursor.execute('SELECT DISTINCT City FROM weather')\n",
    "unique_cities = cursor.fetchall()\n",
    "\n",
    "#c) All the records for India.\n",
    "cursor.execute('SELECT * FROM weather WHERE Country = \"India\"')\n",
    "india_records = cursor.fetchall()\n",
    "\n",
    "#d) All the Fall records\n",
    "cursor.execute('SELECT * FROM weather WHERE Season = \"Fall\"')\n",
    "fall_records = cursor.fetchall()\n",
    "\n",
    "#e) The city, country, and season for which the average rainfall is between 200 and 400 millimeters.\n",
    "cursor.execute('''\n",
    "    SELECT City, Country, Season\n",
    "    FROM weather\n",
    "    GROUP BY City, Country, Season\n",
    "    HAVING AVG(\"Rainfall(mm)\") BETWEEN 200 AND 400\n",
    "''')\n",
    "rainfall_between_200_400 = cursor.fetchall()\n",
    "\n",
    "#f) The city and country for which the average Fall temperature is above 20 degrees, in increasing temperature order.\n",
    "cursor.execute('''\n",
    "    SELECT City, Country\n",
    "    FROM weather\n",
    "    WHERE Season = \"Fall\"\n",
    "    GROUP BY City, Country\n",
    "    HAVING AVG(\"Temperature(C)\") > 20\n",
    "    ORDER BY AVG(\"Temperature(C)\") ASC\n",
    "''')\n",
    "high_temp_cities_in_fall = cursor.fetchall()\n",
    "\n",
    "#g) The total annual rainfall for Cairo.\n",
    "cursor.execute('SELECT SUM(\"Rainfall(mm)\") AS \"Total Rainfall\" FROM weather WHERE City = \"Cairo\"')\n",
    "cairo_total_rainfall = cursor.fetchone()[0]\n",
    "\n",
    "#h) The total rainfall for each season.\n",
    "cursor.execute('SELECT Season, SUM(\"Rainfall(mm)\") AS \"Total Rainfall\" FROM weather GROUP BY Season')\n",
    "total_rainfall_by_season = cursor.fetchall()\n",
    "\n",
    "# Print the results\n",
    "print(\"a) All Temperature Data:\", temperature_data)\n",
    "print(\"b) All Unique Cities:\", unique_cities)\n",
    "print(\"c) Records for India:\", india_records)\n",
    "print(\"d) Fall Records:\", fall_records)\n",
    "print(\"e) Average Rainfall between 200 and 400:\", rainfall_between_200_400)\n",
    "print(\"f) High-Temperature Cities in Fall:\", high_temp_cities_in_fall)\n",
    "print(\"g) Total Rainfall for Cairo:\", cairo_total_rainfall)\n",
    "print(\"h) Total Rainfall by Season:\", total_rainfall_by_season)\n",
    "\n",
    "\n",
    "conn.commit()\n",
    "conn.close()"
   ]
  },
  {
   "cell_type": "code",
   "execution_count": 25,
   "id": "8958373d",
   "metadata": {},
   "outputs": [
    {
     "ename": "NameError",
     "evalue": "name 'words' is not defined",
     "output_type": "error",
     "traceback": [
      "\u001b[1;31m---------------------------------------------------------------------------\u001b[0m",
      "\u001b[1;31mNameError\u001b[0m                                 Traceback (most recent call last)",
      "Cell \u001b[1;32mIn[25], line 2\u001b[0m\n\u001b[0;32m      1\u001b[0m \u001b[38;5;66;03m#QUESTION9\u001b[39;00m\n\u001b[1;32m----> 2\u001b[0m upper_words \u001b[38;5;241m=\u001b[39m [word\u001b[38;5;241m.\u001b[39mupper() \u001b[38;5;28;01mfor\u001b[39;00m word \u001b[38;5;129;01min\u001b[39;00m words]\n\u001b[0;32m      3\u001b[0m \u001b[38;5;28mprint\u001b[39m(upper_words)\n",
      "\u001b[1;31mNameError\u001b[0m: name 'words' is not defined"
     ]
    }
   ],
   "source": [
    "#QUESTION9\n",
    "#a\n",
    "upper_words = [word.upper() for word in words]\n",
    "print(upper_words)\n"
   ]
  },
  {
   "cell_type": "code",
   "execution_count": null,
   "id": "8b8e1a56",
   "metadata": {},
   "outputs": [],
   "source": [
    "#QUESTION9\n",
    "#b\n",
    "lower_words = [word.lower() for word in words]\n",
    "print(lower_words)\n"
   ]
  },
  {
   "cell_type": "code",
   "execution_count": null,
   "id": "8a80fba6",
   "metadata": {},
   "outputs": [],
   "source": [
    "#Question9\n",
    "#C\n",
    "word_lengths = [len(word) for word in words]\n",
    "print(word_lengths)\n"
   ]
  },
  {
   "cell_type": "code",
   "execution_count": null,
   "id": "982188e2",
   "metadata": {},
   "outputs": [],
   "source": [
    "#QUESTION9\n",
    "#D\n",
    "word_info = [[word.upper(), word.lower(), len(word)] for word in words]\n",
    "print(word_info)\n",
    "\n"
   ]
  },
  {
   "cell_type": "code",
   "execution_count": null,
   "id": "c26fd1cb",
   "metadata": {},
   "outputs": [],
   "source": [
    "#QUESTION9\n",
    "#E\n",
    "long_words = [word for word in words if len(word) >= 4]\n",
    "print(long_words)\n"
   ]
  }
 ],
 "metadata": {
  "kernelspec": {
   "display_name": "Python 3 (ipykernel)",
   "language": "python",
   "name": "python3"
  },
  "language_info": {
   "codemirror_mode": {
    "name": "ipython",
    "version": 3
   },
   "file_extension": ".py",
   "mimetype": "text/x-python",
   "name": "python",
   "nbconvert_exporter": "python",
   "pygments_lexer": "ipython3",
   "version": "3.11.5"
  }
 },
 "nbformat": 4,
 "nbformat_minor": 5
}
